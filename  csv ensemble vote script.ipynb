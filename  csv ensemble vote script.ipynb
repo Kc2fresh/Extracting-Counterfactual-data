{
 "cells": [
  {
   "cell_type": "code",
   "execution_count": null,
   "metadata": {},
   "outputs": [],
   "source": [
    "import pandas as pd\n",
    "import numpy as np\n"
   ]
  },
  {
   "cell_type": "code",
   "execution_count": null,
   "metadata": {},
   "outputs": [],
   "source": [
    "#this votes on predictions from seven csv files. adapt as needed. the highest score is column one.\n",
    "#the columns are extracted and concatenated into \n",
    "\n",
    "one = pd.read_csv(insert file path, encoding= 'utf-8'#encoding doesnt matter)\n",
    "two = pd.read_csv(insert file path, encoding= 'utf-8')\n",
    "three = pd.read_csv(insert file path, encoding= 'utf-8')                                    \n",
    "four = pd.read_csv(insert file path, encoding= 'utf-8')                  \n",
    "five = pd.read_csv(path, encoding= 'utf-8')\n",
    "six = pd.read_csv(path, encoding= 'utf-8')                  \n",
    "seven = pd.read_csv(path, encoding = 'utf-8')\n",
    "\n",
    "one1= one['pred1']                  \n",
    "two1= two['pred2']                  \n",
    "three1= three['pred3']                  \n",
    "four1= four['pred4']                  \n",
    "five1= five['pred5']                  \n",
    "six1= six['pred6']                  \n",
    "seven1= seven['pred7']                  "
   ]
  },
  {
   "cell_type": "code",
   "execution_count": null,
   "metadata": {},
   "outputs": [],
   "source": [
    "subt = pd.concat([one1,two1,three1,four1,five1,six1,seven1], axis=1)"
   ]
  },
  {
   "cell_type": "code",
   "execution_count": null,
   "metadata": {},
   "outputs": [],
   "source": [
    "subt.tail(60)"
   ]
  },
  {
   "cell_type": "code",
   "execution_count": null,
   "metadata": {},
   "outputs": [],
   "source": [
    "def fix_df(row):\n",
    "    a= row['pred1']\n",
    "    b= row['pred2']\n",
    "    c= row['pred3']\n",
    "    d= row['pred4']\n",
    "    e= row['pred5']\n",
    "    f= row['pred6']\n",
    "    g= row['pred7']\n",
    "    return compute(a,b,c,d,e,f,g)\n",
    "\n",
    "#actual metric for computing the voting should depend on your data, look at the columns, and then decide\n",
    "\n",
    "def compute(a,b,c,d,e,f,g):\n",
    "    it1= (b + c + d + e + f + g)/5\n",
    "    if it1 >= 0.8:\n",
    "        it1 = 1\n",
    "    elif it1 < 0.5:\n",
    "        it1= 0\n",
    "    it2 = it1 + a\n",
    "    if it2 >= 1:\n",
    "        it2 =1\n",
    "    elif it2 < 1:\n",
    "        it2 =0\n",
    "    return it2    \n",
    "    \n",
    "    \n",
    "    \n",
    "\n",
    "\n",
    "\n",
    "\n",
    "\n",
    "\n",
    "\n",
    "vote_csv['final'] = vote_csv.apply(fix_df, axis=1)"
   ]
  },
  {
   "cell_type": "code",
   "execution_count": null,
   "metadata": {},
   "outputs": [],
   "source": [
    "vote_csv.head()"
   ]
  },
  {
   "cell_type": "code",
   "execution_count": null,
   "metadata": {},
   "outputs": [],
   "source": [
    "vote_csv.to_csv('your filename.csv')"
   ]
  },
  {
   "cell_type": "code",
   "execution_count": null,
   "metadata": {},
   "outputs": [],
   "source": []
  }
 ],
 "metadata": {
  "kernelspec": {
   "display_name": "Python 3",
   "language": "python",
   "name": "python3"
  },
  "language_info": {
   "codemirror_mode": {
    "name": "ipython",
    "version": 3
   },
   "file_extension": ".py",
   "mimetype": "text/x-python",
   "name": "python",
   "nbconvert_exporter": "python",
   "pygments_lexer": "ipython3",
   "version": "3.7.4"
  }
 },
 "nbformat": 4,
 "nbformat_minor": 2
}
